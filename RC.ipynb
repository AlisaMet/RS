{
 "cells": [
  {
   "cell_type": "code",
   "execution_count": 40,
   "metadata": {
    "collapsed": true
   },
   "outputs": [],
   "source": [
    "from sklearn.metrics.pairwise import cosine_similarity\n",
    "from scipy.sparse import lil_matrix\n",
    "import numpy as np\n",
    "import random\n",
    "import math"
   ]
  },
  {
   "cell_type": "code",
   "execution_count": 41,
   "metadata": {
    "collapsed": true
   },
   "outputs": [],
   "source": [
    "top_n = 10\n",
    "user_amount = 1000\n",
    "song_amount = 384546\n",
    "\n",
    "songs = dict()\n",
    "users = dict()\n",
    "neighbours_sim = dict()\n",
    "\n",
    "user_song_matrix = lil_matrix((user_amount, song_amount), dtype=np.float64)\n",
    "test_data = lil_matrix((user_amount, song_amount), dtype=np.float64)"
   ]
  },
  {
   "cell_type": "code",
   "execution_count": 42,
   "metadata": {
    "collapsed": false
   },
   "outputs": [
    {
     "name": "stdout",
     "output_type": "stream",
     "text": [
      "Amount of added records in matrix:  49631\n"
     ]
    }
   ],
   "source": [
    "def get_id(dict, key):\n",
    "    if key not in dict:\n",
    "        dict[key] = len(dict)\n",
    "    return dict[key]\n",
    "\n",
    "\n",
    "def load_data():\n",
    "    with open('train_triplets.txt', 'r') as f:\n",
    "        for line in f:\n",
    "            user, song, play_count = line.split('\\t')\n",
    "\n",
    "            user = get_id(users, user)\n",
    "            song = get_id(songs, song)\n",
    "\n",
    "            if (user + 1) % (user_amount + 1) == 0:\n",
    "                break\n",
    "\n",
    "            user_song_matrix[user, song] = play_count\n",
    "            if random.randint(1, 10) > 8:\n",
    "                test_data[user, song] = play_count\n",
    "\n",
    "load_data()\n",
    "print(\"Amount of added records in matrix: \", user_song_matrix.nnz)"
   ]
  },
  {
   "cell_type": "code",
   "execution_count": 43,
   "metadata": {
    "collapsed": false
   },
   "outputs": [
    {
     "name": "stdout",
     "output_type": "stream",
     "text": [
      "Start calculations ...\n",
      "\n",
      "Top_n neighbors for first user (similarity, neighbour):  [(array([[ 0.24231188]]), 848), (array([[ 0.21761762]]), 920), (array([[ 0.10190103]]), 76), (array([[ 0.10073114]]), 471), (array([[ 0.08920516]]), 657), (array([[ 0.07323109]]), 335), (array([[ 0.0719195]]), 472), (array([[ 0.07163353]]), 414), (array([[ 0.0680847]]), 438), (array([[ 0.04950556]]), 101)]\n"
     ]
    }
   ],
   "source": [
    "# get top_n neighbours ordered by cos_sim\n",
    "def get_n_neighbours(user):\n",
    "    neighbours = []\n",
    "    for neighbour in range(user_song_matrix.shape[0]):\n",
    "        cos = cosine_similarity(user_song_matrix[user], user_song_matrix[neighbour])\n",
    "        neighbours.append((cos, neighbour))\n",
    "    return sorted(neighbours, reverse=True)[1:(top_n + 1)]\n",
    "\n",
    "# save neighbours for each user for faster calculations\n",
    "def calc_neighbours():\n",
    "    for user in range(user_song_matrix.shape[0]):\n",
    "        neighbours_sim[user] = get_n_neighbours(user)\n",
    "\n",
    "print (\"Start calculations ...\\n\")\n",
    "calc_neighbours()\n",
    "print(\"Top_n neighbors for first user (similarity, neighbour): \", neighbours_sim[0])\n"
   ]
  },
  {
   "cell_type": "code",
   "execution_count": 44,
   "metadata": {
    "collapsed": true
   },
   "outputs": [],
   "source": [
    "# get probable rating for song (according to slide 11)\n",
    "# r = sum(coefficient_of_nbhd_sim * nbhd_r)/(sum(abs(coefficients_of_similarities)))\n",
    "# (mean-centering) we can also calculate rate as\n",
    "# ra = user_avg_r + sum(coeff * (nbhd_r - avg_nbhd_r))/sum(abs(coefficients_of_similarities)))\n",
    "def get_rate(user, song):\n",
    "    neighbours = neighbours_sim[user]\n",
    "    upper_sum = 0.0\n",
    "    lower_sum = 0.0\n",
    "    # user_avg_rate = user_song_matrix[user].sum() / user_song_matrix[user].nnz\n",
    "    for (cos, neighbour) in neighbours:\n",
    "        rate = user_song_matrix[neighbour, song]\n",
    "        # ratings_sum = user_song_matrix[neighbour].sum()\n",
    "        # ratings_amount = user_song_matrix[neighbour].nnz\n",
    "        # avg_rate = ratings_sum / ratings_amount\n",
    "        if rate != 0:\n",
    "            # upper_sum += cos * (rate - avg_rate)\n",
    "            upper_sum += cos * (rate)\n",
    "            lower_sum += abs(cos)\n",
    "    if lower_sum == 0:\n",
    "        return 0\n",
    "    # return user_avg_rate + upper_sum / lower_sum\n",
    "    return upper_sum / lower_sum\n"
   ]
  },
  {
   "cell_type": "code",
   "execution_count": 45,
   "metadata": {
    "collapsed": false
   },
   "outputs": [
    {
     "name": "stdout",
     "output_type": "stream",
     "text": [
      "Top_N songs for first user: \n",
      " \t\tsong\t\t|\trating\n",
      "SOLPVAQ12AB017EB35 \t\t 18.0\n",
      "SOAFNSV12A8159E996 \t\t 11.0\n",
      "SOUFIYP12A6D4FB033 \t\t 10.0\n",
      "SOYIZSN12A6701E0BB \t\t 7.0\n",
      "SOLRGVL12A8C143BC3 \t\t 6.0\n",
      "SOZFSQT12A67ADE650 \t\t 5.0\n",
      "SOYZKHZ12A6310ECA2 \t\t 5.0\n",
      "SOYLDJC12A6701E2FF \t\t 5.0\n",
      "SOYDNWS12A6D4F8882 \t\t 5.0\n",
      "SOXXWJG12A8C13DAA5 \t\t 5.0\n"
     ]
    }
   ],
   "source": [
    "# get top_n songs for user\n",
    "def get_top_n(user):\n",
    "    top_n_songs = []\n",
    "    for song in songs:\n",
    "        song_id = get_id(songs, song)\n",
    "        if user_song_matrix[user, song_id] == 0:\n",
    "            top_n_songs.append((get_rate(user, song_id), song))\n",
    "    return sorted(top_n_songs, reverse=True)[:top_n]\n",
    "\n",
    "top = get_top_n(1)\n",
    "print(\"Top_N songs for first user: \\n \\t\\tsong\\t\\t|\\trating\")\n",
    "for (rating, song) in top:\n",
    "    print(song, \"\\t\\t\", str(rating[0][0]))"
   ]
  },
  {
   "cell_type": "code",
   "execution_count": 46,
   "metadata": {
    "collapsed": false
   },
   "outputs": [
    {
     "name": "stdout",
     "output_type": "stream",
     "text": [
      "Calculated RMSE:  11.621103735233664\n"
     ]
    }
   ],
   "source": [
    "# slide 5\n",
    "# rmse = sqrt (sum((real - predected)^2)/amount_of_ratings)\n",
    "def rmse():\n",
    "    rates_am = 0\n",
    "    sqr_sum = 0\n",
    "\n",
    "    for user in range(user_song_matrix.shape[0]):\n",
    "        rated_by_user = user_song_matrix[user].tocsr().indices\n",
    "        for song in rated_by_user:\n",
    "            if test_data[user, song] == 0:\n",
    "                predicted = get_rate(user, song)\n",
    "                real = user_song_matrix[user, song]\n",
    "                rates_am += 1\n",
    "                sqr_sum += math.pow((real - predicted), 2)\n",
    "\n",
    "    return math.sqrt(sqr_sum / rates_am)\n",
    "\n",
    "\n",
    "print(\"Calculated RMSE: \", str(rmse()))"
   ]
  }
 ],
 "metadata": {
  "kernelspec": {
   "display_name": "Python 3",
   "language": "python",
   "name": "python3"
  },
  "language_info": {
   "codemirror_mode": {
    "name": "ipython",
    "version": 3
   },
   "file_extension": ".py",
   "mimetype": "text/x-python",
   "name": "python",
   "nbconvert_exporter": "python",
   "pygments_lexer": "ipython3",
   "version": "3.5.3rc1"
  }
 },
 "nbformat": 4,
 "nbformat_minor": 2
}
